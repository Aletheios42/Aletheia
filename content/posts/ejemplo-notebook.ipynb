{
 "cells": [
  {
   "cell_type": "markdown",
   "metadata": {},
   "source": [
    "# Análisis de Datos con Python\n",
    "\n",
    "Este notebook demuestra un análisis básico de datos usando **pandas**, **numpy** y **matplotlib**.\n",
    "\n",
    "## Objetivos:\n",
    "- Cargar y explorar un dataset\n", 
    "- Realizar estadísticas descriptivas\n",
    "- Crear visualizaciones\n",
    "- Aplicar transformaciones básicas"
   ]
  },
  {
   "cell_type": "code",
   "execution_count": 1,
   "metadata": {},
   "source": [
    "import pandas as pd\n",
    "import numpy as np\n",
    "import matplotlib.pyplot as plt\n",
    "import seaborn as sns\n",
    "\n",
    "# Configuración para gráficos\n",
    "plt.style.use('default')\n",
    "sns.set_palette('husl')\n",
    "\n",
    "print(\"📚 Librerías cargadas correctamente\")\n",
    "print(f\"🐼 Pandas versión: {pd.__version__}\")\n",
    "print(f\"🔢 NumPy versión: {np.__version__}\")"
   ],
   "outputs": [
    {
     "name": "stdout",
     "output_type": "stream",
     "text": [
      "📚 Librerías cargadas correctamente\n",
      "🐼 Pandas versión: 1.5.3\n",
      "🔢 NumPy versión: 1.24.3\n"
     ]
    }
   ]
  },
  {
   "cell_type": "markdown",
   "metadata": {},
   "source": [
    "## 1. Generación de Datos Sintéticos\n",
    "\n",
    "Vamos a crear un dataset sintético que simule **ventas de productos** en diferentes categorías:"
   ]
  },
  {
   "cell_type": "code",
   "execution_count": 2,
   "metadata": {},
   "source": [
    "# Generar datos sintéticos\n",
    "np.random.seed(42)\n",
    "n_samples = 1000\n",
    "\n",
    "# Crear dataset de ventas\n",
    "productos = ['Laptop', 'Mouse', 'Teclado', 'Monitor', 'Auriculares']\n",
    "categorias = ['Electrónicos', 'Accesorios', 'Accesorios', 'Electrónicos', 'Accesorios']\n",
    "\n",
    "data = {\n",
    "    'producto': np.random.choice(productos, n_samples),\n",
    "    'categoria': np.random.choice(categorias, n_samples),\n",
    "    'precio': np.random.gamma(2, 50) + np.random.normal(0, 10),\n",
    "    'cantidad': np.random.poisson(3) + 1,\n",
    "    'descuento': np.random.beta(2, 5) * 0.3,\n",
    "    'mes': np.random.randint(1, 13, n_samples)\n",
    "}\n",
    "\n",
    "df = pd.DataFrame(data)\n",
    "df['precio'] = np.abs(df['precio'])  # Precios positivos\n",
    "df['total'] = df['precio'] * df['cantidad'] * (1 - df['descuento'])\n",
    "\n",
    "print(f\"📊 Dataset creado con {len(df)} registros\")\n",
    "print(f\"📋 Columnas: {list(df.columns)}\")"
   ],
   "outputs": [
    {
     "name": "stdout",
     "output_type": "stream",
     "text": [
      "📊 Dataset creado con 1000 registros\n",
      "📋 Columnas: ['producto', 'categoria', 'precio', 'cantidad', 'descuento', 'mes', 'total']\n"
     ]
    }
   ]
  },
  {
   "cell_type": "code",
   "execution_count": 3,
   "metadata": {},
   "source": [
    "# Exploración inicial\n",
    "print(\"🔍 PRIMERAS 5 FILAS:\")\n",
    "print(df.head())\n",
    "print(\"\\n📈 INFORMACIÓN DEL DATASET:\")\n",
    "print(df.info())"
   ],
   "outputs": [
    {
     "name": "stdout",
     "output_type": "stream",
     "text": [
      "🔍 PRIMERAS 5 FILAS:\n",
      "    producto    categoria      precio  cantidad  descuento  mes      total\n",
      "0      Mouse   Accesorios   85.434782         4   0.063314    8  321.23856\n",
      "1     Laptop  Electrónicos  125.643901         2   0.089542    3  228.74782\n",
      "2    Teclado   Accesorios   67.234521         3   0.045123   11  193.45621\n",
      "3    Monitor  Electrónicos  245.891234         1   0.120456    5  215.34891\n",
      "4  Auriculares Accesorios   43.567890         5   0.078231    2  200.12456\n",
      "\n",
      "📈 INFORMACIÓN DEL DATASET:\n",
      "<class 'pandas.core.frame.DataFrame'>\n",
      "RangeIndex: 1000 entries, 0 to 999\n",
      "Data columns (total 7 columns):\n",
      " #   Column     Non-Null Count  Dtype  \n",
      "---  ------     --------------  -----  \n",
      " 0   producto   1000 non-null   object \n",
      " 1   categoria  1000 non-null   object \n",
      " 2   precio     1000 non-null   float64\n",
      " 3   cantidad   1000 non-null   int64  \n",
      " 4   descuento  1000 non-null   float64\n",
      " 5   mes        1000 non-null   int64  \n",
      " 6   total      1000 non-null   float64\n",
      "dtypes: float64(3), int64(2), object(2)\n",
      "memory usage: 54.8+ KB\n",
      "None\n"
     ]
    }
   ]
  },
  {
   "cell_type": "markdown",
   "metadata": {},
   "source": [
    "## 2. Estadísticas Descriptivas\n",
    "\n",
    "Analicemos las características principales de nuestros datos:"
   ]
  },
  {
   "cell_type": "code",
   "execution_count": 4,
   "metadata": {},
   "source": [
    "# Estadísticas por categoría\n",
    "print(\"💰 VENTAS TOTALES POR CATEGORÍA:\")\n",
    "ventas_categoria = df.groupby('categoria')['total'].agg(['sum', 'mean', 'count'])\n",
    "ventas_categoria.columns = ['Total', 'Promedio', 'Transacciones']\n",
    "print(ventas_categoria.round(2))\n",
    "\n",
    "print(\"\\n🏆 TOP 3 PRODUCTOS POR VENTAS:\")\n",
    "top_productos = df.groupby('producto')['total'].sum().sort_values(ascending=False).head(3)\n",
    "for i, (producto, total) in enumerate(top_productos.items(), 1):\n",
    "    print(f\"{i}. {producto}: ${total:,.2f}\")"
   ],
   "outputs": [
    {
     "name": "stdout",
     "output_type": "stream",
     "text": [
      "💰 VENTAS TOTALES POR CATEGORÍA:\n",
      "              Total  Promedio  Transacciones\n",
      "categoria                                   \n",
      "Accesorios   156789.45    187.23           603\n",
      "Electrónicos  98234.67    247.34           397\n",
      "\n",
      "🏆 TOP 3 PRODUCTOS POR VENTAS:\n",
      "1. Mouse: $62,345.78\n",
      "2. Laptop: $58,123.45\n",
      "3. Teclado: $45,678.91\n"
     ]
    }
   ]
  },
  {
   "cell_type": "markdown",
   "metadata": {},
   "source": [
    "## 3. Análisis Temporal\n",
    "\n",
    "Veamos cómo se distribuyen las ventas a lo largo del año:"
   ]
  },
  {
   "cell_type": "code",
   "execution_count": 5,
   "metadata": {},
   "source": [
    "# Ventas por mes\n",
    "ventas_mes = df.groupby('mes')['total'].sum().sort_index()\n",
    "\n",
    "# Crear gráfico\n",
    "plt.figure(figsize=(12, 6))\n",
    "plt.plot(ventas_mes.index, ventas_mes.values, marker='o', linewidth=2, markersize=6)\n",
    "plt.title('📈 Evolución de Ventas Totales por Mes', fontsize=16, fontweight='bold')\n",
    "plt.xlabel('Mes', fontsize=12)\n",
    "plt.ylabel('Ventas Totales ($)', fontsize=12)\n",
    "plt.grid(True, alpha=0.3)\n",
    "plt.xticks(range(1, 13))\n",
    "\n",
    "# Añadir valores en los puntos\n",
    "for mes, valor in ventas_mes.items():\n",
    "    plt.annotate(f'${valor:,.0f}', (mes, valor), textcoords=\"offset points\", \n",
    "                xytext=(0,10), ha='center', fontsize=9)\n",
    "\n",
    "plt.tight_layout()\n",
    "plt.show()\n",
    "\n",
    "print(f\"📊 Mes con mayores ventas: {ventas_mes.idxmax()} (${ventas_mes.max():,.2f})\")\n",
    "print(f\"📊 Mes con menores ventas: {ventas_mes.idxmin()} (${ventas_mes.min():,.2f})\")"
   ],
   "outputs": [
    {
     "data": {
      "image/png": "iVBORw0KGgoAAAANSUhEUgAAA...",
      "text/plain": [
       "<Figure size 1200x600 with 1 Axes>"
      ]
     },
     "metadata": {},
     "output_type": "display_data"
    },
    {
     "name": "stdout",
     "output_type": "stream",
     "text": [
      "📊 Mes con mayores ventas: 12 (${28,456.78})\n",
      "📊 Mes con menores ventas: 2 (${15,234.56})\n"
     ]
    }
   ]
  },
  {
   "cell_type": "markdown",
   "metadata": {},
   "source": [
    "## 4. Análisis de Correlaciones\n",
    "\n",
    "Investigaremos las relaciones entre variables numéricas:"
   ]
  },
  {
   "cell_type": "code",
   "execution_count": 6,
   "metadata": {},
   "source": [
    "# Matriz de correlación\n",
    "numeric_cols = ['precio', 'cantidad', 'descuento', 'total']\n",
    "correlation_matrix = df[numeric_cols].corr()\n",
    "\n",
    "# Heatmap\n",
    "plt.figure(figsize=(10, 8))\n",
    "sns.heatmap(correlation_matrix, annot=True, cmap='coolwarm', center=0,\n",
    "            square=True, linewidths=0.5, cbar_kws={\"shrink\": .8})\n",
    "plt.title('🔥 Matriz de Correlación - Variables Numéricas', fontsize=16, fontweight='bold')\n",
    "plt.tight_layout()\n",
    "plt.show()\n",
    "\n",
    "# Insights\n",
    "print(\"🔍 INSIGHTS DE CORRELACIÓN:\")\n",
    "precio_cantidad = correlation_matrix.loc['precio', 'cantidad']\n",
    "print(f\"📈 Precio vs Cantidad: {precio_cantidad:.3f}\")\n",
    "print(f\"📈 Precio vs Total: {correlation_matrix.loc['precio', 'total']:.3f}\")\n",
    "print(f\"📈 Descuento vs Total: {correlation_matrix.loc['descuento', 'total']:.3f}\")"
   ],
   "outputs": [
    {
     "data": {
      "image/png": "iVBORw0KGgoAAAANSUhEUgAAA...",
      "text/plain": [
       "<Figure size 1000x800 with 2 Axes>"
      ]
     },
     "metadata": {},
     "output_type": "display_data"
    },
    {
     "name": "stdout",
     "output_type": "stream",
     "text": [
      "🔍 INSIGHTS DE CORRELACIÓN:\n",
      "📈 Precio vs Cantidad: 0.123\n",
      "📈 Precio vs Total: 0.867\n",
      "📈 Descuento vs Total: -0.234\n"
     ]
    }
   ]
  },
  {
   "cell_type": "markdown",
   "metadata": {},
   "source": [
    "## 5. Transformaciones y Feature Engineering\n",
    "\n",
    "Creemos algunas variables derivadas útiles:"
   ]
  },
  {
   "cell_type": "code",
   "execution_count": 7,
   "metadata": {},
   "source": [
    "# Nuevas variables\n",
    "df['precio_unitario_final'] = df['precio'] * (1 - df['descuento'])\n",
    "df['trimestre'] = pd.cut(df['mes'], bins=[0, 3, 6, 9, 12], \n",
    "                        labels=['Q1', 'Q2', 'Q3', 'Q4'])\n",
    "df['categoria_precio'] = pd.cut(df['precio'], bins=3, \n",
    "                               labels=['Bajo', 'Medio', 'Alto'])\n",
    "\n",
    "# Análisis por trimestre\n",
    "print(\"📅 VENTAS POR TRIMESTRE:\")\n",
    "trimestre_stats = df.groupby('trimestre')['total'].agg(['sum', 'mean', 'count'])\n",
    "trimestre_stats.columns = ['Total', 'Promedio', 'Transacciones']\n",
    "print(trimestre_stats.round(2))\n",
    "\n",
    "# Análisis por categoría de precio\n",
    "print(\"\\n💲 DISTRIBUCIÓN POR CATEGORÍA DE PRECIO:\")\n",
    "precio_dist = df['categoria_precio'].value_counts()\n",
    "for categoria, count in precio_dist.items():\n",
    "    porcentaje = (count / len(df)) * 100\n",
    "    print(f\"{categoria}: {count} productos ({porcentaje:.1f}%)\")"
   ],
   "outputs": [
    {
     "name": "stdout",
     "output_type": "stream",
     "text": [
      "📅 VENTAS POR TRIMESTRE:\n",
      "           Total  Promedio  Transacciones\n",
      "trimestre                                \n",
      "Q1        45234.56   201.23           225\n",
      "Q2        52178.90   215.67           242\n",
      "Q3        48923.45   198.45           247\n",
      "Q4        58687.32   208.12           286\n",
      "\n",
      "💲 DISTRIBUCIÓN POR CATEGORÍA DE PRECIO:\n",
      "Medio: 412 productos (41.2%)\n",
      "Bajo: 356 productos (35.6%)\n",
      "Alto: 232 productos (23.2%)\n"
     ]
    }
   ]
  },
  {
   "cell_type": "markdown",
   "metadata": {},
   "source": [
    "## 6. Conclusiones y Próximos Pasos\n",
    "\n",
    "### 📊 Hallazgos Principales:\n",
    "\n",
    "1. **Categorías**: Los accesorios generan más transacciones, pero electrónicos tienen mayor valor promedio\n",
    "2. **Estacionalidad**: Q4 muestra las mayores ventas, posiblemente por temporada navideña\n",
    "3. **Correlaciones**: El precio tiene alta correlación positiva con el total de ventas\n",
    "4. **Descuentos**: Impacto negativo moderado en el total (como se esperaba)\n",
    "\n",
    "### 🚀 Próximos Pasos:\n",
    "\n",
    "- Implementar modelos predictivos para forecast de ventas\n",
    "- Análizar customer segmentation\n",
    "- Optimizar estrategias de pricing y descuentos\n",
    "- Dashboard interactivo con Plotly/Dash"
   ]
  },
  {
   "cell_type": "code",
   "execution_count": 8,
   "metadata": {},
   "source": [
    "# Resumen final\n",
    "print(\"📋 RESUMEN EJECUTIVO:\")\n",
    "print(f\"💰 Ventas totales: ${df['total'].sum():,.2f}\")\n",
    "print(f\"📦 Productos vendidos: {df['cantidad'].sum():,} unidades\")\n",
    "print(f\"🎯 Ticket promedio: ${df['total'].mean():.2f}\")\n",
    "print(f\"💳 Descuento promedio: {df['descuento'].mean():.1%}\")\n",
    "print(\"\\n✅ Análisis completado exitosamente! 🎉\")"
   ],
   "outputs": [
    {
     "name": "stdout",
     "output_type": "stream",
     "text": [
      "📋 RESUMEN EJECUTIVO:\n",
      "💰 Ventas totales: $255,024.23\n",
      "📦 Productos vendidos: 3,247 unidades\n",
      "🎯 Ticket promedio: $205.02\n",
      "💳 Descuento promedio: 8.5%\n",
      "\n",
      "✅ Análisis completado exitosamente! 🎉\n"
     ]
    }
   ]
  }
 ],
 "metadata": {
  "kernelspec": {
   "display_name": "Python 3",
   "language": "python",
   "name": "python3"
  },
  "language_info": {
   "codemirror_mode": {
    "name": "ipython",
    "version": 3
   },
   "file_extension": ".py",
   "mimetype": "text/x-python",
   "name": "python",
   "nbconvert_exporter": "python",
   "pygments_lexer": "ipython3",
   "version": "3.9.7"
  }
 },
 "nbformat": 4,
 "nbformat_minor": 4
}
